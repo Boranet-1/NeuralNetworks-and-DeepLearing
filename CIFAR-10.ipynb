{
 "cells": [
  {
   "cell_type": "code",
   "execution_count": 1,
   "id": "4b342718-9c2b-475c-8ce8-5bf0841a7a2a",
   "metadata": {},
   "outputs": [],
   "source": [
    "import torch\n",
    "import torch.nn as nn\n",
    "import torch.nn.functional as F\n",
    "import torchvision\n",
    "import torchvision.transforms as transforms\n",
    "import matplotlib.pyplot as plt\n",
    "import numpy as np"
   ]
  },
  {
   "cell_type": "code",
   "execution_count": 2,
   "id": "a36731c0-f3ff-4685-ab93-e897704c7818",
   "metadata": {},
   "outputs": [],
   "source": [
    "device = torch.device('cpu') #device configuration\n",
    "#Hyper parameters\n",
    "num_epochs = 4\n",
    "batch_size = 4\n",
    "learning_rate = 0.001"
   ]
  },
  {
   "cell_type": "code",
   "execution_count": 3,
   "id": "d233e90d-13fd-4246-9cc5-ab2b7fc29854",
   "metadata": {},
   "outputs": [
    {
     "name": "stdout",
     "output_type": "stream",
     "text": [
      "Downloading https://www.cs.toronto.edu/~kriz/cifar-10-python.tar.gz to ./python_practice\\cifar-10-python.tar.gz\n"
     ]
    },
    {
     "name": "stderr",
     "output_type": "stream",
     "text": [
      "100%|███████████████████████████████████████████████████████████████████████████████| 170M/170M [00:31<00:00, 5.50MB/s]\n"
     ]
    },
    {
     "name": "stdout",
     "output_type": "stream",
     "text": [
      "Extracting ./python_practice\\cifar-10-python.tar.gz to ./python_practice\n",
      "Files already downloaded and verified\n"
     ]
    }
   ],
   "source": [
    "#load cifar10 dataset\n",
    "transform = transforms.Compose([transforms.ToTensor(), transforms.Normalize((0.5,0.5,0.5),(0.5,0.5,0.5))])\n",
    "train_dataset = torchvision.datasets.CIFAR10(root='./python_practice', train=True, download=True, transform=transform)\n",
    "test_dataset = torchvision.datasets.CIFAR10(root='./python_practice', train=False, download=True, transform=transform)\n",
    "\n",
    "train_loader = torch.utils.data.DataLoader(dataset=train_dataset, batch_size=batch_size, shuffle=True)\n",
    "test_loader = torch.utils.data.DataLoader(dataset=test_dataset, batch_size=batch_size, shuffle=False)\n"
   ]
  },
  {
   "cell_type": "code",
   "execution_count": 6,
   "id": "ca0d3b71-3d1b-4aa4-b078-3418608298de",
   "metadata": {},
   "outputs": [
    {
     "name": "stderr",
     "output_type": "stream",
     "text": [
      "Clipping input data to the valid range for imshow with RGB data ([0..1] for floats or [0..255] for integers). Got range [-1.0..1.0].\n",
      "Clipping input data to the valid range for imshow with RGB data ([0..1] for floats or [0..255] for integers). Got range [-0.88235295..0.9372549].\n",
      "Clipping input data to the valid range for imshow with RGB data ([0..1] for floats or [0..255] for integers). Got range [-0.94509804..0.8666667].\n",
      "Clipping input data to the valid range for imshow with RGB data ([0..1] for floats or [0..255] for integers). Got range [-0.88235295..0.92156863].\n"
     ]
    },
    {
     "data": {
      "image/png": "[encoded data removed]",
      "text/plain": [
       "<Figure size 1200x600 with 4 Axes>"
      ]
     },
     "metadata": {},
     "output_type": "display_data"
    }
   ],
   "source": [
    "#get a batch of images and labels\n",
    "images, labels = next(iter(train_loader))\n",
    "classes = ('plane', 'car', 'bird', 'cat', 'deer', 'dog', 'frog', 'horse', 'ship', 'truck')\n",
    "#plot images\n",
    "fig, axes = plt.subplots(1, batch_size, figsize=(12, 6)) #adjusted to batch size\n",
    "for i, ax in enumerate(axes.flat):\n",
    "    img = images[i].permute(1, 2, 0).numpy() # convert pytorch to numpy\n",
    "    ax.imshow(img)\n",
    "    ax.set_title(classes[labels[i]])\n",
    "    ax.axis('off')\n",
    "plt.tight_layout()\n",
    "plt.show()"
   ]
  },
  {
   "cell_type": "code",
   "execution_count": 9,
   "id": "078949c9-566f-4a48-befe-123455b8d97c",
   "metadata": {},
   "outputs": [
    {
     "name": "stdout",
     "output_type": "stream",
     "text": [
      "epoch: 1/4, step: 2000/12500, loss=2.2916\n",
      "epoch: 1/4, step: 4000/12500, loss=2.3119\n",
      "epoch: 1/4, step: 6000/12500, loss=2.2973\n",
      "epoch: 1/4, step: 8000/12500, loss=2.2749\n",
      "epoch: 1/4, step: 10000/12500, loss=2.2677\n",
      "epoch: 1/4, step: 12000/12500, loss=2.1704\n",
      "epoch: 2/4, step: 2000/12500, loss=2.1749\n",
      "epoch: 2/4, step: 4000/12500, loss=1.8666\n",
      "epoch: 2/4, step: 6000/12500, loss=1.8400\n",
      "epoch: 2/4, step: 8000/12500, loss=1.2868\n",
      "epoch: 2/4, step: 10000/12500, loss=2.2399\n",
      "epoch: 2/4, step: 12000/12500, loss=1.8353\n",
      "epoch: 3/4, step: 2000/12500, loss=1.3301\n",
      "epoch: 3/4, step: 4000/12500, loss=2.0249\n",
      "epoch: 3/4, step: 6000/12500, loss=1.3245\n",
      "epoch: 3/4, step: 8000/12500, loss=1.9886\n",
      "epoch: 3/4, step: 10000/12500, loss=1.6401\n",
      "epoch: 3/4, step: 12000/12500, loss=1.4342\n",
      "epoch: 4/4, step: 2000/12500, loss=1.3974\n",
      "epoch: 4/4, step: 4000/12500, loss=1.6824\n",
      "epoch: 4/4, step: 6000/12500, loss=1.6926\n",
      "epoch: 4/4, step: 8000/12500, loss=1.5645\n",
      "epoch: 4/4, step: 10000/12500, loss=0.7544\n",
      "epoch: 4/4, step: 12000/12500, loss=1.5779\n",
      "Finished Training\n",
      "Accuracy of the network: 48.12\n",
      "Accuracy of plane: 56.4\n",
      "Accuracy of car: 63.2\n",
      "Accuracy of bird: 29.7\n",
      "Accuracy of cat: 29.4\n",
      "Accuracy of deer: 35.3\n",
      "Accuracy of dog: 35.7\n",
      "Accuracy of frog: 68.4\n",
      "Accuracy of horse: 54.8\n",
      "Accuracy of ship: 62.4\n",
      "Accuracy of truck: 45.9\n"
     ]
    }
   ],
   "source": [
    "#implement conv net\n",
    "class ConvNet(nn.Module):\n",
    "    def __init__(self):\n",
    "        super(ConvNet, self).__init__()\n",
    "        self.conv1 = nn.Conv2d(3,6,5)\n",
    "        self.pool = nn.MaxPool2d(2,2)\n",
    "        self.conv2 = nn.Conv2d(6,16,5)\n",
    "        self.fc1 = nn.Linear(16*5*5, 120)\n",
    "        self.fc2 = nn.Linear(120, 84)\n",
    "        self.fc3 = nn.Linear(84,10)\n",
    "    def forward(self,x):\n",
    "        x = self.pool(F.relu(self.conv1(x)))\n",
    "        x = self.pool(F.relu(self.conv2(x)))\n",
    "        x = x.view(-1,16*5*5)\n",
    "        x = F.relu(self.fc1(x))\n",
    "        x = F.relu(self.fc2(x))\n",
    "        x = self.fc3(x)\n",
    "        return x\n",
    "\n",
    "model = ConvNet().to(device)\n",
    "criterion = nn.CrossEntropyLoss()\n",
    "optimizer = torch.optim.SGD(model.parameters(),lr=learning_rate)\n",
    "#training loop\n",
    "n_total_steps = len(train_loader)\n",
    "for epoch in range(num_epochs):\n",
    "    for i, (images, labels) in enumerate(train_loader):\n",
    "        #reshaping our image, origin shape: [4,3,32,32]=4,3,1024\n",
    "        #input_layer: 3 input channels, 6 output channels,5 kernel size\n",
    "        images = images.to(device)\n",
    "        labels = labels.to(device)\n",
    "        #forward pass\n",
    "        outputs = model(images)\n",
    "        loss = criterion(outputs, labels)\n",
    "        #backward pass\n",
    "        optimizer.zero_grad()\n",
    "        loss.backward()\n",
    "        optimizer.step()\n",
    "\n",
    "        if (i+1)%2000 == 0:\n",
    "            print(f'epoch: {epoch+1}/{num_epochs}, step: {i+1}/{n_total_steps}, loss={loss.item():.4f}')\n",
    "print('Finished Training')\n",
    "#test and evaluation\n",
    "with torch.no_grad():\n",
    "    n_correct = 0\n",
    "    n_samples = 0\n",
    "    n_class_correct = [0 for i in range(10)]\n",
    "    n_class_samples = [0 for i in range(10)]\n",
    "    for images, labels in test_loader:\n",
    "        images = images.to(device)\n",
    "        labels = labels.to(device)\n",
    "        outputs = model(images)\n",
    "\n",
    "        _, predictions = torch.max(outputs, 1)\n",
    "        n_samples += labels.size(0)\n",
    "        n_correct += (predictions == labels).sum().item()\n",
    "        for i in range(batch_size):\n",
    "            label = labels[i]\n",
    "            pred = predictions[i]\n",
    "            if (label == pred):\n",
    "                n_class_correct[label] += 1\n",
    "            n_class_samples[label] += 1\n",
    "    acc = 100.0 * n_correct / n_samples\n",
    "    print(f'Accuracy of the network: {acc}')\n",
    "\n",
    "    for i in range(10):\n",
    "        acc = 100.0 * n_class_correct[i]/n_class_samples[i]\n",
    "        print(f'Accuracy of {classes[i]}: {acc}')\n",
    "    "
   ]
  },
  {
   "cell_type": "code",
   "execution_count": null,
   "id": "b68f72ec-c085-4ff8-ae5a-eb82a8d995a6",
   "metadata": {},
   "outputs": [],
   "source": []
  }
 ],
 "metadata": {
  "kernelspec": {
   "display_name": "Python (pytorch_env)",
   "language": "python",
   "name": "pytorch_env"
  },
  "language_info": {
   "codemirror_mode": {
    "name": "ipython",
    "version": 3
   },
   "file_extension": ".py",
   "mimetype": "text/x-python",
   "name": "python",
   "nbconvert_exporter": "python",
   "pygments_lexer": "ipython3",
   "version": "3.11.3"
  }
 },
 "nbformat": 4,
 "nbformat_minor": 5
}
