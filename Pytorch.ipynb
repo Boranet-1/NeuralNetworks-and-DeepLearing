{
 "cells": [
  {
   "cell_type": "code",
   "execution_count": 1,
   "id": "58e27d5e-fae6-4315-b266-5c6479d59959",
   "metadata": {},
   "outputs": [],
   "source": [
    "import torch"
   ]
  },
  {
   "cell_type": "code",
   "execution_count": 25,
   "id": "9c4a2207-397d-458d-b9a1-2a78ea7c3048",
   "metadata": {},
   "outputs": [
    {
     "name": "stdout",
     "output_type": "stream",
     "text": [
      "tensor([0.5129, 0.7992, 0.4017], requires_grad=True)\n"
     ]
    }
   ],
   "source": [
    "x = torch.rand(3, requires_grad=True)\n",
    "print(x)"
   ]
  },
  {
   "cell_type": "code",
   "execution_count": 33,
   "id": "23c0c7f1-93d1-4ab7-b00f-fca5af9313f5",
   "metadata": {},
   "outputs": [
    {
     "name": "stdout",
     "output_type": "stream",
     "text": [
      "tensor([0.2631, 0.6387, 0.1613], grad_fn=<PowBackward0>)\n"
     ]
    }
   ],
   "source": [
    "y = x**2\n",
    "print(y)"
   ]
  },
  {
   "cell_type": "code",
   "execution_count": 42,
   "id": "b542479c-9b29-4412-966b-75936b5168c8",
   "metadata": {},
   "outputs": [
    {
     "name": "stdout",
     "output_type": "stream",
     "text": [
      "tensor(0.3544, grad_fn=<MeanBackward0>)\n"
     ]
    }
   ],
   "source": [
    "y = y.mean()\n",
    "print(y)"
   ]
  },
  {
   "cell_type": "code",
   "execution_count": 45,
   "id": "07694f3e-ef6e-4eff-b639-50b3ae3e3f5c",
   "metadata": {},
   "outputs": [],
   "source": [
    "#y.backward()"
   ]
  },
  {
   "cell_type": "code",
   "execution_count": 44,
   "id": "692ffa2b-f98b-439d-bbf7-f9162285af86",
   "metadata": {},
   "outputs": [
    {
     "name": "stdout",
     "output_type": "stream",
     "text": [
      "tensor([1.3420, 1.5328, 1.2678])\n"
     ]
    }
   ],
   "source": [
    "print(x.grad)"
   ]
  },
  {
   "cell_type": "markdown",
   "id": "6e44f659-10e4-4ef7-bf18-213b6cedfa1b",
   "metadata": {},
   "source": [
    "## Back propagation"
   ]
  },
  {
   "cell_type": "code",
   "execution_count": 46,
   "id": "cdae3825-804e-406d-94f6-aa9f0f4cb0ca",
   "metadata": {},
   "outputs": [],
   "source": [
    "import torch"
   ]
  },
  {
   "cell_type": "code",
   "execution_count": 48,
   "id": "d955fb57-f291-42f4-a55f-f9e560e59252",
   "metadata": {},
   "outputs": [],
   "source": [
    "x = torch.tensor([2],  dtype=torch.float32)\n",
    "y = torch.tensor([3] , dtype=torch.float32)\n",
    "w = torch.tensor(1.0, requires_grad=True)"
   ]
  },
  {
   "cell_type": "code",
   "execution_count": 49,
   "id": "992addbe-5c4b-4787-9ba2-ae945bfeabbc",
   "metadata": {},
   "outputs": [
    {
     "name": "stdout",
     "output_type": "stream",
     "text": [
      "tensor([1.], grad_fn=<PowBackward0>)\n"
     ]
    }
   ],
   "source": [
    "y_hat = w*x\n",
    "s = y_hat - y\n",
    "loss = s**2\n",
    "print(loss)"
   ]
  },
  {
   "cell_type": "code",
   "execution_count": 50,
   "id": "00c16934-239c-4d78-bb3f-959f9286c39a",
   "metadata": {},
   "outputs": [
    {
     "name": "stdout",
     "output_type": "stream",
     "text": [
      "tensor(-4.)\n"
     ]
    }
   ],
   "source": [
    "#backward pass\n",
    "loss.backward()\n",
    "print(w.grad)"
   ]
  },
  {
   "cell_type": "markdown",
   "id": "5b2455eb-095c-49cb-ba78-f89ffd22a30a",
   "metadata": {},
   "source": [
    "### Gradient Descent"
   ]
  },
  {
   "cell_type": "code",
   "execution_count": 77,
   "id": "46994fbe-a294-4e70-b7cd-9827b6f7b3b0",
   "metadata": {},
   "outputs": [],
   "source": [
    "import torch\n",
    "import torch.nn as nn"
   ]
  },
  {
   "cell_type": "code",
   "execution_count": 90,
   "id": "2e234e42-98b3-4014-b50e-975e4d9d0b3d",
   "metadata": {},
   "outputs": [],
   "source": [
    "X = torch.tensor([[1],[2],[3],[4]], dtype=torch.float32)\n",
    "Y = torch.tensor([[2],[4],[6],[8]], dtype=torch.float32)"
   ]
  },
  {
   "cell_type": "code",
   "execution_count": 91,
   "id": "90436cc9-46f1-4def-9290-1b846aba6244",
   "metadata": {},
   "outputs": [
    {
     "name": "stdout",
     "output_type": "stream",
     "text": [
      "torch.Size([4, 1])\n"
     ]
    }
   ],
   "source": [
    "print(X.shape)"
   ]
  },
  {
   "cell_type": "code",
   "execution_count": 104,
   "id": "60b1a9aa-ef37-4574-a1e4-3877acf6c5c0",
   "metadata": {},
   "outputs": [
    {
     "name": "stdout",
     "output_type": "stream",
     "text": [
      "4 1\n",
      "Prediction before training : f(5)= 2.810\n",
      "epoch 1: w= 0.803, loss = 15.83829594\n",
      "epoch 11: w= 1.717, loss = 0.42641872\n",
      "epoch 21: w= 1.867, loss = 0.02670779\n",
      "epoch 31: w= 1.893, loss = 0.01545392\n",
      "epoch 41: w= 1.900, loss = 0.01430345\n",
      "epoch 51: w= 1.904, loss = 0.01346444\n",
      "epoch 61: w= 1.907, loss = 0.01268054\n",
      "epoch 71: w= 1.909, loss = 0.01194249\n",
      "epoch 81: w= 1.912, loss = 0.01124737\n",
      "epoch 91: w= 1.915, loss = 0.01059272\n",
      "Prediction after training : f(5)= 9.829\n"
     ]
    }
   ],
   "source": [
    "X_test = torch.tensor([5], dtype=torch.float32)\n",
    "n_samples, n_features = X.shape\n",
    "print(n_samples, n_features)\n",
    "input_size = n_features\n",
    "output_size = n_features\n",
    "model = nn.Linear(input_size,output_size)\n",
    "\n",
    "print(f'Prediction before training : f(5)= {model(X_test).item():.3f}')\n",
    "#Training\n",
    "learning_rate = 0.01\n",
    "n_iters = 100\n",
    "loss = nn.MSELoss()\n",
    "optimizer = torch.optim.SGD(model.parameters(), lr=learning_rate)\n",
    "for epoch in range(n_iters):\n",
    "    #prediction = forward pass\n",
    "    y_pred = model(X)\n",
    "    #loss\n",
    "    l = loss(Y,y_pred)\n",
    "    #gradient\n",
    "    l.backward() #dl/dw\n",
    "    #update gradient\n",
    "    optimizer.step()\n",
    "    #zero grad\n",
    "    optimizer.zero_grad()\n",
    "    if epoch%10 ==0:\n",
    "        [w, b] = model.parameters()\n",
    "        print(f'epoch {epoch+1}: w= {w[0][0].item():.3f}, loss = {l:.8f}')\n",
    "print(f'Prediction after training : f(5)= {model(X_test).item():.3f}')"
   ]
  },
  {
   "cell_type": "code",
   "execution_count": null,
   "id": "dc502bf9-690b-4001-bc3f-c35170eb207c",
   "metadata": {},
   "outputs": [],
   "source": []
  },
  {
   "cell_type": "code",
   "execution_count": null,
   "id": "cf80f38a-1882-47b4-af1f-7f2008773c62",
   "metadata": {},
   "outputs": [],
   "source": []
  }
 ],
 "metadata": {
  "kernelspec": {
   "display_name": "Python (pytorch_env)",
   "language": "python",
   "name": "pytorch_env"
  },
  "language_info": {
   "codemirror_mode": {
    "name": "ipython",
    "version": 3
   },
   "file_extension": ".py",
   "mimetype": "text/x-python",
   "name": "python",
   "nbconvert_exporter": "python",
   "pygments_lexer": "ipython3",
   "version": "3.11.3"
  }
 },
 "nbformat": 4,
 "nbformat_minor": 5
}
